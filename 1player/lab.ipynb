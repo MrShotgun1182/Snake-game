{
 "cells": [
  {
   "cell_type": "markdown",
   "id": "fdada47a",
   "metadata": {},
   "source": [
    "# in this file i finde the best solotiion to my model."
   ]
  },
  {
   "cell_type": "markdown",
   "id": "546499df",
   "metadata": {},
   "source": [
    "## import lib need"
   ]
  },
  {
   "cell_type": "code",
   "execution_count": 14,
   "id": "9ce8169d",
   "metadata": {},
   "outputs": [],
   "source": [
    "import os\n",
    "import torch\n",
    "import torch.nn as nn\n",
    "import torch.optim as optim\n",
    "import pandas as pd\n",
    "import numpy as np"
   ]
  },
  {
   "cell_type": "markdown",
   "id": "59dabe36",
   "metadata": {},
   "source": [
    "## how make df\n",
    "check distance"
   ]
  },
  {
   "cell_type": "code",
   "execution_count": null,
   "id": "b48b2b45",
   "metadata": {},
   "outputs": [
    {
     "data": {
      "text/html": [
       "<div>\n",
       "<style scoped>\n",
       "    .dataframe tbody tr th:only-of-type {\n",
       "        vertical-align: middle;\n",
       "    }\n",
       "\n",
       "    .dataframe tbody tr th {\n",
       "        vertical-align: top;\n",
       "    }\n",
       "\n",
       "    .dataframe thead th {\n",
       "        text-align: right;\n",
       "    }\n",
       "</style>\n",
       "<table border=\"1\" class=\"dataframe\">\n",
       "  <thead>\n",
       "    <tr style=\"text-align: right;\">\n",
       "      <th></th>\n",
       "      <th>head_x</th>\n",
       "      <th>head_y</th>\n",
       "      <th>food_x</th>\n",
       "      <th>food_y</th>\n",
       "      <th>body_len</th>\n",
       "      <th>direction_Down</th>\n",
       "      <th>direction_Left</th>\n",
       "      <th>direction_Right</th>\n",
       "      <th>direction_Up</th>\n",
       "    </tr>\n",
       "  </thead>\n",
       "  <tbody>\n",
       "    <tr>\n",
       "      <th>0</th>\n",
       "      <td>100</td>\n",
       "      <td>150</td>\n",
       "      <td>550</td>\n",
       "      <td>325</td>\n",
       "      <td>3</td>\n",
       "      <td>True</td>\n",
       "      <td>False</td>\n",
       "      <td>False</td>\n",
       "      <td>False</td>\n",
       "    </tr>\n",
       "    <tr>\n",
       "      <th>1</th>\n",
       "      <td>100</td>\n",
       "      <td>175</td>\n",
       "      <td>550</td>\n",
       "      <td>325</td>\n",
       "      <td>3</td>\n",
       "      <td>True</td>\n",
       "      <td>False</td>\n",
       "      <td>False</td>\n",
       "      <td>False</td>\n",
       "    </tr>\n",
       "    <tr>\n",
       "      <th>2</th>\n",
       "      <td>100</td>\n",
       "      <td>200</td>\n",
       "      <td>550</td>\n",
       "      <td>325</td>\n",
       "      <td>3</td>\n",
       "      <td>True</td>\n",
       "      <td>False</td>\n",
       "      <td>False</td>\n",
       "      <td>False</td>\n",
       "    </tr>\n",
       "    <tr>\n",
       "      <th>3</th>\n",
       "      <td>100</td>\n",
       "      <td>225</td>\n",
       "      <td>550</td>\n",
       "      <td>325</td>\n",
       "      <td>3</td>\n",
       "      <td>True</td>\n",
       "      <td>False</td>\n",
       "      <td>False</td>\n",
       "      <td>False</td>\n",
       "    </tr>\n",
       "    <tr>\n",
       "      <th>4</th>\n",
       "      <td>100</td>\n",
       "      <td>250</td>\n",
       "      <td>550</td>\n",
       "      <td>325</td>\n",
       "      <td>3</td>\n",
       "      <td>True</td>\n",
       "      <td>False</td>\n",
       "      <td>False</td>\n",
       "      <td>False</td>\n",
       "    </tr>\n",
       "    <tr>\n",
       "      <th>5</th>\n",
       "      <td>125</td>\n",
       "      <td>250</td>\n",
       "      <td>550</td>\n",
       "      <td>325</td>\n",
       "      <td>3</td>\n",
       "      <td>False</td>\n",
       "      <td>False</td>\n",
       "      <td>True</td>\n",
       "      <td>False</td>\n",
       "    </tr>\n",
       "    <tr>\n",
       "      <th>6</th>\n",
       "      <td>150</td>\n",
       "      <td>250</td>\n",
       "      <td>550</td>\n",
       "      <td>325</td>\n",
       "      <td>3</td>\n",
       "      <td>False</td>\n",
       "      <td>False</td>\n",
       "      <td>True</td>\n",
       "      <td>False</td>\n",
       "    </tr>\n",
       "    <tr>\n",
       "      <th>7</th>\n",
       "      <td>175</td>\n",
       "      <td>250</td>\n",
       "      <td>550</td>\n",
       "      <td>325</td>\n",
       "      <td>3</td>\n",
       "      <td>False</td>\n",
       "      <td>False</td>\n",
       "      <td>True</td>\n",
       "      <td>False</td>\n",
       "    </tr>\n",
       "    <tr>\n",
       "      <th>8</th>\n",
       "      <td>200</td>\n",
       "      <td>250</td>\n",
       "      <td>550</td>\n",
       "      <td>325</td>\n",
       "      <td>3</td>\n",
       "      <td>False</td>\n",
       "      <td>False</td>\n",
       "      <td>True</td>\n",
       "      <td>False</td>\n",
       "    </tr>\n",
       "    <tr>\n",
       "      <th>9</th>\n",
       "      <td>225</td>\n",
       "      <td>250</td>\n",
       "      <td>550</td>\n",
       "      <td>325</td>\n",
       "      <td>3</td>\n",
       "      <td>False</td>\n",
       "      <td>False</td>\n",
       "      <td>True</td>\n",
       "      <td>False</td>\n",
       "    </tr>\n",
       "  </tbody>\n",
       "</table>\n",
       "</div>"
      ],
      "text/plain": [
       "   head_x  head_y  food_x  food_y  body_len  direction_Down  direction_Left  \\\n",
       "0     100     150     550     325         3            True           False   \n",
       "1     100     175     550     325         3            True           False   \n",
       "2     100     200     550     325         3            True           False   \n",
       "3     100     225     550     325         3            True           False   \n",
       "4     100     250     550     325         3            True           False   \n",
       "5     125     250     550     325         3           False           False   \n",
       "6     150     250     550     325         3           False           False   \n",
       "7     175     250     550     325         3           False           False   \n",
       "8     200     250     550     325         3           False           False   \n",
       "9     225     250     550     325         3           False           False   \n",
       "\n",
       "   direction_Right  direction_Up  \n",
       "0            False         False  \n",
       "1            False         False  \n",
       "2            False         False  \n",
       "3            False         False  \n",
       "4            False         False  \n",
       "5             True         False  \n",
       "6             True         False  \n",
       "7             True         False  \n",
       "8             True         False  \n",
       "9             True         False  "
      ]
     },
     "execution_count": 15,
     "metadata": {},
     "output_type": "execute_result"
    }
   ],
   "source": [
    "# current_dir = os.path.dirname(os.path.abspath(__file__))\n",
    "# data_path = os.path.join(current_dir, \"data_set_snake_game.csv\")\n",
    "df = pd.read_csv(\"data_set_snake_game.csv\")\n",
    "df = pd.get_dummies(df, columns=['direction'])\n",
    "\n",
    "before_distance = int(np.sqrt(np.pow(df.loc[0]['food_x'] - df.loc[0]['head_x'],2) + np.pow(df.loc[0]['food_y'] - df.loc[0]['head_y'],2)))\n",
    "for i in range(1,len(df)-1):\n",
    "    current_distance = int(np.sqrt(np.pow(df.loc[i]['food_x'] - df.loc[i]['head_x'],2) + np.pow(df.loc[i]['food_y'] - df.loc[i]['head_y'],2)))\n",
    "    if current_distance >= before_distance:\n",
    "        # print(\"current_distance: %s, before_distance: %s, between distance: %s\" %(current_distance, before_distance, before_distance-current_distance))\n",
    "        # if current_distance - before_distance == 0:\n",
    "            # print(\"head: \",df.loc[i]['head_x'], df.loc[i]['head_y'],\"food: \", df.loc[i]['food_x'], df.loc[i]['food_y'], \"distance: \", current_distance-before_distance)\n",
    "            # print(np.pow(df.loc[i]['food_x'] - df.loc[i]['head_x'],2))\n",
    "            # print(np.pow(df.loc[i]['food_y'] - df.loc[i]['head_y'],2))\n",
    "            # print(np.pow(df.loc[i]['food_x'] - df.loc[i]['head_x'],2) + np.pow(df.loc[0]['food_y'] - df.loc[0]['head_y'],2))\n",
    "            # print(np.sqrt(np.pow(df.loc[i]['food_x'] - df.loc[i]['head_x'],2) + np.pow(df.loc[i]['food_y'] - df.loc[i]['head_y'],2)))\n",
    "            # print(int(np.sqrt(np.pow(df.loc[i]['food_x'] - df.loc[i]['head_x'],2) + np.pow(df.loc[i]['food_y'] - df.loc[i]['head_y'],2))))\n",
    "            # print(before_distance)\n",
    "            # print(\"*\"*20)\n",
    "        df = df.drop(index=i)\n",
    "    before_distance = current_distance\n",
    "df.reset_index()\n",
    "df.head(10)"
   ]
  },
  {
   "cell_type": "markdown",
   "id": "88bb4407",
   "metadata": {},
   "source": [
    "## send data to torch"
   ]
  },
  {
   "cell_type": "code",
   "execution_count": 16,
   "id": "2da30308",
   "metadata": {},
   "outputs": [],
   "source": [
    "# x = df[['head_x' ,'head_y', 'food_x', 'food_y']].values.astype('float32')\n",
    "# y = df[['direction_Down',\t'direction_Left','direction_Right',\t'direction_Up']].values\n",
    "\n",
    "# print(x)"
   ]
  },
  {
   "cell_type": "markdown",
   "id": "4a00f660",
   "metadata": {},
   "source": [
    "## Explanation of labels"
   ]
  },
  {
   "cell_type": "code",
   "execution_count": 17,
   "id": "e10ebb4d",
   "metadata": {},
   "outputs": [
    {
     "data": {
      "text/plain": [
       "direction_Down     60\n",
       "direction_Left     61\n",
       "direction_Right    90\n",
       "direction_Up       50\n",
       "dtype: int64"
      ]
     },
     "execution_count": 17,
     "metadata": {},
     "output_type": "execute_result"
    }
   ],
   "source": [
    "df[['direction_Down',\t'direction_Left','direction_Right',\t'direction_Up']].sum()"
   ]
  }
 ],
 "metadata": {
  "kernelspec": {
   "display_name": "Python 3",
   "language": "python",
   "name": "python3"
  },
  "language_info": {
   "codemirror_mode": {
    "name": "ipython",
    "version": 3
   },
   "file_extension": ".py",
   "mimetype": "text/x-python",
   "name": "python",
   "nbconvert_exporter": "python",
   "pygments_lexer": "ipython3",
   "version": "3.12.6"
  }
 },
 "nbformat": 4,
 "nbformat_minor": 5
}
